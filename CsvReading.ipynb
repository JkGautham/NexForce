import csv
import statistics
def mean(Height,Weight):
  print("Mean Height is",statistics.mean(Height),"Inches")
  print("Mean Weight is",statistics.mean(Weight),"Pounds\n")
def mode(Height,Weight):
  print("Mode Height is",statistics.mode(Height),"Inches")
  print("Mode Weight is",statistics.mode(Weight),"Pounds\n")
def median(Height,Weight):
  print("Median Height is",statistics.median(Height),"Inches")
  print("Median Weight is",statistics.median(Weight),"Pounds\n")
Height=[];Weight=[]
with open('/content/drive/MyDrive/DataSet/SOCR-HeightWeight.csv', mode ='r')as file1:
  csvFile = csv.reader(file1)
  i=0
  for lines in csvFile:
    if i==0:
      i=1
      continue
    Height.append(float(lines[1]))
    Weight.append(float(lines[2]))
ch="m"
while ch not in "Nn":
  ch=input("Mean\nMedian\nMode\nEnter N or n to exit\n\tWhich one do you want to compute : ")
  ch=ch.strip(" ");ch=ch.lower()
  if ch[0]=="n":
    continue
  elif ch=="mode":
    mode(Height,Weight)
  elif ch=="median":
    median(Height,Weight)
  elif ch=="mean":
    mean(Height,Weight)
  else:
    print("Please enter a valid function to perform!\n")
